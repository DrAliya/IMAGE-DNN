{
  "cells": [
    {
      "cell_type": "code",
      "execution_count": null,
      "metadata": {
        "colab": {
          "base_uri": "https://localhost:8080/"
        },
        "id": "FttD_x8OWlc1",
        "outputId": "61f2f49e-06cb-4482-aa7b-494e1b4eac69"
      },
      "outputs": [
        {
          "output_type": "stream",
          "name": "stdout",
          "text": [
            "Looking in indexes: https://pypi.org/simple, https://us-python.pkg.dev/colab-wheels/public/simple/\n",
            "Requirement already satisfied: virtualenv in /usr/local/lib/python3.10/dist-packages (20.23.0)\n",
            "Requirement already satisfied: distlib<1,>=0.3.6 in /usr/local/lib/python3.10/dist-packages (from virtualenv) (0.3.6)\n",
            "Requirement already satisfied: filelock<4,>=3.11 in /usr/local/lib/python3.10/dist-packages (from virtualenv) (3.12.0)\n",
            "Requirement already satisfied: platformdirs<4,>=3.2 in /usr/local/lib/python3.10/dist-packages (from virtualenv) (3.3.0)\n"
          ]
        }
      ],
      "source": [
        "!pip install virtualenv"
      ]
    },
    {
      "cell_type": "code",
      "execution_count": null,
      "metadata": {
        "colab": {
          "base_uri": "https://localhost:8080/"
        },
        "id": "rxHqYqyCWrLw",
        "outputId": "dc66d7d8-5904-4c30-bb54-96ff6e5e23eb"
      },
      "outputs": [
        {
          "output_type": "stream",
          "name": "stdout",
          "text": [
            "created virtual environment CPython3.10.11.final.0-64 in 590ms\n",
            "  creator CPython3Posix(dest=/content/myenv, clear=False, no_vcs_ignore=False, global=False)\n",
            "  seeder FromAppData(download=False, pip=bundle, setuptools=bundle, wheel=bundle, via=copy, app_data_dir=/root/.local/share/virtualenv)\n",
            "    added seed packages: pip==23.1.2, setuptools==67.7.2, wheel==0.40.0\n",
            "  activators BashActivator,CShellActivator,FishActivator,NushellActivator,PowerShellActivator,PythonActivator\n"
          ]
        }
      ],
      "source": [
        "!virtualenv myenv"
      ]
    },
    {
      "cell_type": "code",
      "execution_count": null,
      "metadata": {
        "id": "eI9ZH5g8WtT8"
      },
      "outputs": [],
      "source": [
        "!source myenv/bin/activate"
      ]
    },
    {
      "cell_type": "code",
      "execution_count": null,
      "metadata": {
        "id": "zwyVVm2eQYD5"
      },
      "outputs": [],
      "source": [
        "import os\n",
        "import tensorflow as tf\n",
        "import numpy as np\n",
        "import pandas as pd\n"
      ]
    },
    {
      "cell_type": "code",
      "source": [
        "from sklearn.model_selection import StratifiedShuffleSplit\n",
        "import tensorflow as tf\n",
        "\n",
        "(x_train, y_train), (x_test, y_test) = tf.keras.datasets.cifar10.load_data()\n",
        "\n",
        "# Creating StratifiedShuffleSplit object\n",
        "stratified_split = StratifiedShuffleSplit(n_splits=4, test_size=0.2, random_state=42)\n",
        "\n",
        "# Splitting the data into four sets\n",
        "splits = list(stratified_split.split(x_train, y_train))\n",
        "\n",
        "# Extracting the indices for each split\n",
        "indices_train1, indices_test1 = splits[0]\n",
        "indices_train2, indices_test2 = splits[1]\n",
        "indices_train3, indices_test3 = splits[2]\n",
        "indices_train4, indices_test4 = splits[3]\n",
        "\n",
        "# Creating the four sets\n",
        "x_train1, y_train1 = x_train[indices_train1], y_train[indices_train1]\n",
        "x_test1, y_test1 = x_train[indices_test1], y_train[indices_test1]\n",
        "\n",
        "x_train2, y_train2 = x_train[indices_train2], y_train[indices_train2]\n",
        "x_test2, y_test2 = x_train[indices_test2], y_train[indices_test2]\n",
        "\n",
        "x_train3, y_train3 = x_train[indices_train3], y_train[indices_train3]\n",
        "x_test3, y_test3 = x_train[indices_test3], y_train[indices_test3]\n",
        "\n",
        "x_train4, y_train4 = x_train[indices_train4], y_train[indices_train4]\n",
        "x_test4, y_test4 = x_train[indices_test4], y_train[indices_test4]\n"
      ],
      "metadata": {
        "id": "7XIWVKCQOf-3"
      },
      "execution_count": null,
      "outputs": []
    },
    {
      "cell_type": "code",
      "execution_count": null,
      "metadata": {
        "id": "rBwpEytmQg2h"
      },
      "outputs": [],
      "source": [
        "x_train1=x_train1.astype('float32')\n",
        "x_test1=x_test1.astype('float32')\n",
        "x_train1=x_train1/255.0\n",
        "x_test1=x_test1/255.0\n",
        "\n",
        "x_train2=x_train2.astype('float32')\n",
        "x_test2=x_test2.astype('float32')\n",
        "x_train2=x_train2/255.0\n",
        "x_test2=x_test2/255.0\n",
        "\n",
        "\n",
        "x_train3=x_train3.astype('float32')\n",
        "x_test3=x_test3.astype('float32')\n",
        "x_train3=x_train3/255.0\n",
        "x_test3=x_test3/255.0\n",
        "\n",
        "x_train4=x_train4.astype('float32')\n",
        "x_test4=x_test4.astype('float32')\n",
        "x_train4=x_train4/255.0\n",
        "x_test4=x_test4/255.0"
      ]
    },
    {
      "cell_type": "code",
      "execution_count": null,
      "metadata": {
        "colab": {
          "base_uri": "https://localhost:8080/"
        },
        "id": "W9WYRPF2RQUd",
        "outputId": "bd09f5c2-0372-4a51-a801-2a077224ac37"
      },
      "outputs": [
        {
          "output_type": "stream",
          "name": "stdout",
          "text": [
            "(33333, 32, 32, 3) (6667, 32, 32, 3) (10000, 32, 32, 3)\n"
          ]
        }
      ],
      "source": [
        "s1=StratifiedShuffleSplit(n_splits=5, random_state=0, test_size=1/6)\n",
        "train_index1, valid_index1 = next(s1.split(x_train1, y_train1))\n",
        "x_valid1, y_valid1 = x_train1[valid_index1], y_train1[valid_index1]\n",
        "x_train1, y_train1 = x_train1[train_index1], y_train1[train_index1]\n",
        "print(x_train1.shape, x_valid1.shape, x_test1.shape)"
      ]
    },
    {
      "cell_type": "code",
      "source": [
        "s2=StratifiedShuffleSplit(n_splits=5, random_state=0, test_size=1/6)\n",
        "train_index2, valid_index2 = next(s2.split(x_train2, y_train2))\n",
        "x_valid2, y_valid2 = x_train2[valid_index2], y_train2[valid_index2]\n",
        "x_train2, y_train2 = x_train2[train_index2], y_train2[train_index2]\n",
        "print(x_train2.shape, x_valid2.shape, x_test2.shape)"
      ],
      "metadata": {
        "colab": {
          "base_uri": "https://localhost:8080/"
        },
        "id": "ZX3GFFr1QxRg",
        "outputId": "c05cd9ca-97d7-4fdb-9fe3-19a3402d2074"
      },
      "execution_count": null,
      "outputs": [
        {
          "output_type": "stream",
          "name": "stdout",
          "text": [
            "(33333, 32, 32, 3) (6667, 32, 32, 3) (10000, 32, 32, 3)\n"
          ]
        }
      ]
    },
    {
      "cell_type": "code",
      "source": [
        "s3=StratifiedShuffleSplit(n_splits=5, random_state=0, test_size=1/6)\n",
        "train_index3, valid_index3 = next(s3.split(x_train3, y_train3))\n",
        "x_valid3, y_valid3 = x_train3[valid_index3], y_train3[valid_index3]\n",
        "x_train3, y_train3 = x_train3[train_index3], y_train3[train_index3]\n",
        "print(x_train3.shape, x_valid3.shape, x_test3.shape)"
      ],
      "metadata": {
        "colab": {
          "base_uri": "https://localhost:8080/"
        },
        "id": "2gFk44ztRLZq",
        "outputId": "d063ea1e-7168-4cfa-bded-3e42fa857ace"
      },
      "execution_count": null,
      "outputs": [
        {
          "output_type": "stream",
          "name": "stdout",
          "text": [
            "(33333, 32, 32, 3) (6667, 32, 32, 3) (10000, 32, 32, 3)\n"
          ]
        }
      ]
    },
    {
      "cell_type": "code",
      "execution_count": null,
      "metadata": {
        "id": "Tdb6v4kRSCZb"
      },
      "outputs": [],
      "source": [
        "model1 = tf.keras.models.Sequential()\n",
        "model1.add(tf.keras.layers.BatchNormalization(input_shape=x_train1.shape[1:]))\n",
        "model1.add(tf.keras.layers.Conv2D(64,(5,5), padding ='same', activation ='elu'))\n",
        "model1.add(tf.keras.layers.MaxPooling2D(pool_size=(2,2), strides=(2,2)))\n",
        "model1.add(tf.keras.layers.Dropout(0.25))\n",
        "\n",
        "\n",
        "model1.add(tf.keras.layers.BatchNormalization(input_shape=x_train1.shape[1:]))\n",
        "model1.add(tf.keras.layers.Conv2D(64,(5,5), padding ='same', activation ='elu'))\n",
        "model1.add(tf.keras.layers.MaxPooling2D(pool_size=(2,2), strides=(2,2)))\n",
        "model1.add(tf.keras.layers.Dropout(0.25))\n",
        "\n",
        "\n",
        "model1.add(tf.keras.layers.BatchNormalization(input_shape=x_train1.shape[1:]))\n",
        "model1.add(tf.keras.layers.Conv2D(64,(5,5), padding ='same', activation ='elu'))\n",
        "model1.add(tf.keras.layers.MaxPooling2D(pool_size=(2,2), strides=(2,2)))\n",
        "model1.add(tf.keras.layers.Dropout(0.25))"
      ]
    },
    {
      "cell_type": "code",
      "execution_count": null,
      "metadata": {
        "colab": {
          "base_uri": "https://localhost:8080/"
        },
        "id": "cUMA6qyvS8M1",
        "outputId": "0d9bd280-4818-4f98-eafa-9069cd9622e0"
      },
      "outputs": [
        {
          "output_type": "stream",
          "name": "stdout",
          "text": [
            "Model: \"sequential\"\n",
            "_________________________________________________________________\n",
            " Layer (type)                Output Shape              Param #   \n",
            "=================================================================\n",
            " batch_normalization (BatchN  (None, 32, 32, 3)        12        \n",
            " ormalization)                                                   \n",
            "                                                                 \n",
            " conv2d (Conv2D)             (None, 32, 32, 64)        4864      \n",
            "                                                                 \n",
            " max_pooling2d (MaxPooling2D  (None, 16, 16, 64)       0         \n",
            " )                                                               \n",
            "                                                                 \n",
            " dropout (Dropout)           (None, 16, 16, 64)        0         \n",
            "                                                                 \n",
            " batch_normalization_1 (Batc  (None, 16, 16, 64)       256       \n",
            " hNormalization)                                                 \n",
            "                                                                 \n",
            " conv2d_1 (Conv2D)           (None, 16, 16, 64)        102464    \n",
            "                                                                 \n",
            " max_pooling2d_1 (MaxPooling  (None, 8, 8, 64)         0         \n",
            " 2D)                                                             \n",
            "                                                                 \n",
            " dropout_1 (Dropout)         (None, 8, 8, 64)          0         \n",
            "                                                                 \n",
            " batch_normalization_2 (Batc  (None, 8, 8, 64)         256       \n",
            " hNormalization)                                                 \n",
            "                                                                 \n",
            " conv2d_2 (Conv2D)           (None, 8, 8, 64)          102464    \n",
            "                                                                 \n",
            " max_pooling2d_2 (MaxPooling  (None, 4, 4, 64)         0         \n",
            " 2D)                                                             \n",
            "                                                                 \n",
            " dropout_2 (Dropout)         (None, 4, 4, 64)          0         \n",
            "                                                                 \n",
            "=================================================================\n",
            "Total params: 210,316\n",
            "Trainable params: 210,054\n",
            "Non-trainable params: 262\n",
            "_________________________________________________________________\n"
          ]
        }
      ],
      "source": [
        "\n",
        "model1.summary()"
      ]
    },
    {
      "cell_type": "code",
      "source": [
        "model2 = tf.keras.models.Sequential()\n",
        "model2.add(tf.keras.layers.BatchNormalization(input_shape=x_train2.shape[1:]))\n",
        "model2.add(tf.keras.layers.Conv2D(64,(5,5), padding ='same', activation ='elu'))\n",
        "model2.add(tf.keras.layers.MaxPooling2D(pool_size=(2,2), strides=(2,2)))\n",
        "model1.add(tf.keras.layers.Dropout(0.25))\n",
        "\n",
        "\n",
        "model2.add(tf.keras.layers.BatchNormalization(input_shape=x_train2.shape[1:]))\n",
        "model2.add(tf.keras.layers.Conv2D(64,(5,5), padding ='same', activation ='elu'))\n",
        "model2.add(tf.keras.layers.MaxPooling2D(pool_size=(2,2), strides=(2,2)))\n",
        "model2.add(tf.keras.layers.Dropout(0.25))\n",
        "\n",
        "\n",
        "model2.add(tf.keras.layers.BatchNormalization(input_shape=x_train2.shape[1:]))\n",
        "model2.add(tf.keras.layers.Conv2D(64,(5,5), padding ='same', activation ='elu'))\n",
        "model2.add(tf.keras.layers.MaxPooling2D(pool_size=(2,2), strides=(2,2)))\n",
        "model2.add(tf.keras.layers.Dropout(0.25))"
      ],
      "metadata": {
        "id": "zLp9RRgwRlcE"
      },
      "execution_count": null,
      "outputs": []
    },
    {
      "cell_type": "code",
      "source": [
        "model2.summary()"
      ],
      "metadata": {
        "colab": {
          "base_uri": "https://localhost:8080/"
        },
        "id": "8wqGQy2tR_Eq",
        "outputId": "8c2b4720-4dd6-4513-f19e-d82f3dfdf3f5"
      },
      "execution_count": null,
      "outputs": [
        {
          "output_type": "stream",
          "name": "stdout",
          "text": [
            "Model: \"sequential_1\"\n",
            "_________________________________________________________________\n",
            " Layer (type)                Output Shape              Param #   \n",
            "=================================================================\n",
            " batch_normalization_3 (Batc  (None, 32, 32, 3)        12        \n",
            " hNormalization)                                                 \n",
            "                                                                 \n",
            " conv2d_3 (Conv2D)           (None, 32, 32, 64)        4864      \n",
            "                                                                 \n",
            " max_pooling2d_3 (MaxPooling  (None, 16, 16, 64)       0         \n",
            " 2D)                                                             \n",
            "                                                                 \n",
            " batch_normalization_4 (Batc  (None, 16, 16, 64)       256       \n",
            " hNormalization)                                                 \n",
            "                                                                 \n",
            " conv2d_4 (Conv2D)           (None, 16, 16, 64)        102464    \n",
            "                                                                 \n",
            " max_pooling2d_4 (MaxPooling  (None, 8, 8, 64)         0         \n",
            " 2D)                                                             \n",
            "                                                                 \n",
            " dropout_4 (Dropout)         (None, 8, 8, 64)          0         \n",
            "                                                                 \n",
            " batch_normalization_5 (Batc  (None, 8, 8, 64)         256       \n",
            " hNormalization)                                                 \n",
            "                                                                 \n",
            " conv2d_5 (Conv2D)           (None, 8, 8, 64)          102464    \n",
            "                                                                 \n",
            " max_pooling2d_5 (MaxPooling  (None, 4, 4, 64)         0         \n",
            " 2D)                                                             \n",
            "                                                                 \n",
            " dropout_5 (Dropout)         (None, 4, 4, 64)          0         \n",
            "                                                                 \n",
            "=================================================================\n",
            "Total params: 210,316\n",
            "Trainable params: 210,054\n",
            "Non-trainable params: 262\n",
            "_________________________________________________________________\n"
          ]
        }
      ]
    },
    {
      "cell_type": "code",
      "source": [
        "from keras.layers.merging.concatenate import Concatenate\n",
        "\n",
        "# Assuming you have two models: model1 and model2\n",
        "output1 = model1.get_layer('dropout_2').output\n",
        "output2 = model2.get_layer('dropout_5').output\n",
        "\n",
        "# Concatenate the two output layers\n",
        "concatenated = Concatenate()([output1, output2])\n"
      ],
      "metadata": {
        "id": "seMIJb1oSttq"
      },
      "execution_count": null,
      "outputs": []
    },
    {
      "cell_type": "code",
      "source": [
        "print(concatenated.shape)"
      ],
      "metadata": {
        "colab": {
          "base_uri": "https://localhost:8080/"
        },
        "id": "4bNBhUTzTWDr",
        "outputId": "18b09532-9880-4ad1-d77d-e0ad96cd7a99"
      },
      "execution_count": null,
      "outputs": [
        {
          "output_type": "stream",
          "name": "stdout",
          "text": [
            "(None, 4, 4, 128)\n"
          ]
        }
      ]
    },
    {
      "cell_type": "code",
      "source": [
        "model2.add(tf.keras.layers.BatchNormalization(input_shape=concatenated.shape[1:]))\n",
        "model2.add(tf.keras.layers.Conv2D(64,(5,5), padding ='same', activation ='elu'))\n",
        "model2.add(tf.keras.layers.MaxPooling2D(pool_size=(2,2), strides=(2,2)))\n",
        "model2.add(tf.keras.layers.Dropout(0.25))"
      ],
      "metadata": {
        "id": "-YSb2Fw2at0C"
      },
      "execution_count": null,
      "outputs": []
    },
    {
      "cell_type": "code",
      "source": [
        "model2.add(tf.keras.layers.Flatten())\n",
        "model2.add(tf.keras.layers.Dense(256))\n",
        "model2.add(tf.keras.layers.Activation('elu'))\n",
        "model2.add(tf.keras.layers.Dropout(0.5))\n",
        "model2.add(tf.keras.layers.Dense(10))\n",
        "model2.add(tf.keras.layers.Activation('softmax'))\n",
        "model2.summary()"
      ],
      "metadata": {
        "colab": {
          "base_uri": "https://localhost:8080/"
        },
        "id": "LKRL0LhYdVps",
        "outputId": "a6add875-fa1b-4e59-89d1-2e7a76563fe2"
      },
      "execution_count": null,
      "outputs": [
        {
          "output_type": "stream",
          "name": "stdout",
          "text": [
            "Model: \"sequential_1\"\n",
            "_________________________________________________________________\n",
            " Layer (type)                Output Shape              Param #   \n",
            "=================================================================\n",
            " batch_normalization_3 (Batc  (None, 32, 32, 3)        12        \n",
            " hNormalization)                                                 \n",
            "                                                                 \n",
            " conv2d_3 (Conv2D)           (None, 32, 32, 64)        4864      \n",
            "                                                                 \n",
            " max_pooling2d_3 (MaxPooling  (None, 16, 16, 64)       0         \n",
            " 2D)                                                             \n",
            "                                                                 \n",
            " batch_normalization_4 (Batc  (None, 16, 16, 64)       256       \n",
            " hNormalization)                                                 \n",
            "                                                                 \n",
            " conv2d_4 (Conv2D)           (None, 16, 16, 64)        102464    \n",
            "                                                                 \n",
            " max_pooling2d_4 (MaxPooling  (None, 8, 8, 64)         0         \n",
            " 2D)                                                             \n",
            "                                                                 \n",
            " dropout_4 (Dropout)         (None, 8, 8, 64)          0         \n",
            "                                                                 \n",
            " batch_normalization_5 (Batc  (None, 8, 8, 64)         256       \n",
            " hNormalization)                                                 \n",
            "                                                                 \n",
            " conv2d_5 (Conv2D)           (None, 8, 8, 64)          102464    \n",
            "                                                                 \n",
            " max_pooling2d_5 (MaxPooling  (None, 4, 4, 64)         0         \n",
            " 2D)                                                             \n",
            "                                                                 \n",
            " dropout_5 (Dropout)         (None, 4, 4, 64)          0         \n",
            "                                                                 \n",
            " batch_normalization_6 (Batc  (None, 4, 4, 64)         256       \n",
            " hNormalization)                                                 \n",
            "                                                                 \n",
            " conv2d_6 (Conv2D)           (None, 4, 4, 64)          102464    \n",
            "                                                                 \n",
            " max_pooling2d_6 (MaxPooling  (None, 2, 2, 64)         0         \n",
            " 2D)                                                             \n",
            "                                                                 \n",
            " dropout_6 (Dropout)         (None, 2, 2, 64)          0         \n",
            "                                                                 \n",
            " flatten (Flatten)           (None, 256)               0         \n",
            "                                                                 \n",
            " dense (Dense)               (None, 256)               65792     \n",
            "                                                                 \n",
            " activation (Activation)     (None, 256)               0         \n",
            "                                                                 \n",
            " dropout_7 (Dropout)         (None, 256)               0         \n",
            "                                                                 \n",
            " dense_1 (Dense)             (None, 10)                2570      \n",
            "                                                                 \n",
            " activation_1 (Activation)   (None, 10)                0         \n",
            "                                                                 \n",
            " flatten_1 (Flatten)         (None, 10)                0         \n",
            "                                                                 \n",
            " dense_2 (Dense)             (None, 256)               2816      \n",
            "                                                                 \n",
            " activation_2 (Activation)   (None, 256)               0         \n",
            "                                                                 \n",
            " dropout_10 (Dropout)        (None, 256)               0         \n",
            "                                                                 \n",
            " dense_3 (Dense)             (None, 10)                2570      \n",
            "                                                                 \n",
            " activation_3 (Activation)   (None, 10)                0         \n",
            "                                                                 \n",
            "=================================================================\n",
            "Total params: 386,784\n",
            "Trainable params: 386,394\n",
            "Non-trainable params: 390\n",
            "_________________________________________________________________\n"
          ]
        }
      ]
    },
    {
      "cell_type": "code",
      "source": [
        "# Compile the model\n",
        "model2.compile(\n",
        "    optimizer=tf.keras.optimizers.Adam(learning_rate=1e-3),\n",
        "    loss=tf.keras.losses.SparseCategoricalCrossentropy(),\n",
        "    metrics=[tf.keras.metrics.SparseCategoricalAccuracy()]\n",
        ")"
      ],
      "metadata": {
        "id": "Rxf3KnX7ZUjb"
      },
      "execution_count": null,
      "outputs": []
    },
    {
      "cell_type": "code",
      "execution_count": null,
      "metadata": {
        "colab": {
          "base_uri": "https://localhost:8080/"
        },
        "id": "Ij6AFqW4gsiR",
        "outputId": "86db194d-8705-49af-b3fe-98db1c935f21"
      },
      "outputs": [
        {
          "output_type": "stream",
          "name": "stdout",
          "text": [
            "Epoch 1/2\n",
            "1042/1042 [==============================] - 460s 442ms/step - loss: 1.6294 - sparse_categorical_accuracy: 0.4202 - val_loss: 1.2580 - val_sparse_categorical_accuracy: 0.5413\n",
            "Epoch 2/2\n",
            " 183/1042 [====>.........................] - ETA: 4:53 - loss: 1.3031 - sparse_categorical_accuracy: 0.5371"
          ]
        }
      ],
      "source": [
        "model2.fit(\n",
        "    x=x_train2,\n",
        "    y=y_train2,\n",
        "    validation_data=(x_test2, y_test2),\n",
        "    batch_size=32,\n",
        "    epochs=2\n",
        ")"
      ]
    },
    {
      "cell_type": "code",
      "source": [
        "# Evaluate the model on the test data\n",
        "evaluation2 = model2.evaluate(x=x_test2, y=y_test2)\n",
        "\n",
        "# Print the evaluation results\n",
        "loss = evaluation2[0]\n",
        "accuracy = evaluation2[1]\n",
        "print(f\"Test Loss2: {loss:.4f}\")\n",
        "print(f\"Test Accuracy2: {accuracy:.4f}\")"
      ],
      "metadata": {
        "colab": {
          "base_uri": "https://localhost:8080/"
        },
        "id": "ec7g0-TEev0N",
        "outputId": "519f4768-dc69-4cbb-df1b-35acb854d541"
      },
      "execution_count": null,
      "outputs": [
        {
          "output_type": "stream",
          "name": "stdout",
          "text": [
            "313/313 [==============================] - 40s 127ms/step - loss: 1.0553 - sparse_categorical_accuracy: 0.6211\n",
            "Test Loss2: 1.0553\n",
            "Test Accuracy2: 0.6211\n"
          ]
        }
      ]
    },
    {
      "cell_type": "code",
      "source": [
        "model3 = tf.keras.models.Sequential()\n",
        "model3.add(tf.keras.layers.BatchNormalization(input_shape=x_train3.shape[1:]))\n",
        "model3.add(tf.keras.layers.Conv2D(64,(5,5), padding ='same', activation ='elu'))\n",
        "model3.add(tf.keras.layers.MaxPooling2D(pool_size=(2,2), strides=(2,2)))\n",
        "model3.add(tf.keras.layers.Dropout(0.25))\n",
        "\n",
        "model3.add(tf.keras.layers.BatchNormalization(input_shape=x_train3.shape[1:]))\n",
        "model3.add(tf.keras.layers.Conv2D(64,(5,5), padding ='same', activation ='elu'))\n",
        "model3.add(tf.keras.layers.MaxPooling2D(pool_size=(2,2), strides=(2,2)))\n",
        "model3.add(tf.keras.layers.Dropout(0.25))\n",
        "\n",
        "\n",
        "model2.add(tf.keras.layers.BatchNormalization(input_shape=x_train3.shape[1:]))\n",
        "model2.add(tf.keras.layers.Conv2D(64,(5,5), padding ='same', activation ='elu'))\n",
        "model2.add(tf.keras.layers.MaxPooling2D(pool_size=(2,2), strides=(2,2)))\n",
        "model2.add(tf.keras.layers.Dropout(0.25))\n",
        "\n",
        "model3.summary()"
      ],
      "metadata": {
        "colab": {
          "base_uri": "https://localhost:8080/"
        },
        "id": "X4sHtCp1DFIx",
        "outputId": "d9b65654-c697-4157-8de9-fd3a10ccf7a5"
      },
      "execution_count": null,
      "outputs": [
        {
          "output_type": "stream",
          "name": "stdout",
          "text": [
            "Model: \"sequential_3\"\n",
            "_________________________________________________________________\n",
            " Layer (type)                Output Shape              Param #   \n",
            "=================================================================\n",
            " batch_normalization_8 (Batc  (None, 32, 32, 3)        12        \n",
            " hNormalization)                                                 \n",
            "                                                                 \n",
            " conv2d_8 (Conv2D)           (None, 32, 32, 64)        4864      \n",
            "                                                                 \n",
            " max_pooling2d_8 (MaxPooling  (None, 16, 16, 64)       0         \n",
            " 2D)                                                             \n",
            "                                                                 \n",
            " dropout_9 (Dropout)         (None, 16, 16, 64)        0         \n",
            "                                                                 \n",
            "=================================================================\n",
            "Total params: 4,876\n",
            "Trainable params: 4,870\n",
            "Non-trainable params: 6\n",
            "_________________________________________________________________\n"
          ]
        }
      ]
    },
    {
      "cell_type": "code",
      "source": [
        "# Compile the model\n",
        "model1.compile(\n",
        "    optimizer=tf.keras.optimizers.Adam(learning_rate=1e-3),\n",
        "    loss=tf.keras.losses.SparseCategoricalCrossentropy(),\n",
        "    metrics=[tf.keras.metrics.SparseCategoricalAccuracy()]\n",
        ")"
      ],
      "metadata": {
        "id": "6LhNxSxded6o"
      },
      "execution_count": null,
      "outputs": []
    }
  ],
  "metadata": {
    "accelerator": "TPU",
    "colab": {
      "provenance": []
    },
    "kernelspec": {
      "display_name": "Python 3",
      "name": "python3"
    },
    "language_info": {
      "name": "python"
    }
  },
  "nbformat": 4,
  "nbformat_minor": 0
}